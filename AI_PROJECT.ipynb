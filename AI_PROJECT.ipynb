{
 "cells": [
  {
   "cell_type": "code",
   "execution_count": 1,
   "id": "a01f2842",
   "metadata": {},
   "outputs": [
    {
     "name": "stdout",
     "output_type": "stream",
     "text": [
      "Requirement already satisfied: opencv-python in c:\\users\\abisa\\anaconda3\\lib\\site-packages (4.8.1.78)\n",
      "Requirement already satisfied: numpy>=1.21.2 in c:\\users\\abisa\\anaconda3\\lib\\site-packages (from opencv-python) (1.24.3)\n"
     ]
    }
   ],
   "source": [
    "!pip install opencv-python"
   ]
  },
  {
   "cell_type": "code",
   "execution_count": 2,
   "id": "4fa7833e",
   "metadata": {},
   "outputs": [
    {
     "name": "stdout",
     "output_type": "stream",
     "text": [
      "Requirement already satisfied: numpy in c:\\users\\abisa\\anaconda3\\lib\\site-packages (1.24.3)\n"
     ]
    }
   ],
   "source": [
    "!pip install numpy"
   ]
  },
  {
   "cell_type": "code",
   "execution_count": 3,
   "id": "3e3b6012",
   "metadata": {},
   "outputs": [
    {
     "name": "stdout",
     "output_type": "stream",
     "text": [
      "Requirement already satisfied: tensorflow in c:\\users\\abisa\\anaconda3\\lib\\site-packages (2.15.0)\n",
      "Requirement already satisfied: tensorflow-intel==2.15.0 in c:\\users\\abisa\\anaconda3\\lib\\site-packages (from tensorflow) (2.15.0)\n",
      "Requirement already satisfied: absl-py>=1.0.0 in c:\\users\\abisa\\anaconda3\\lib\\site-packages (from tensorflow-intel==2.15.0->tensorflow) (2.0.0)\n",
      "Requirement already satisfied: astunparse>=1.6.0 in c:\\users\\abisa\\anaconda3\\lib\\site-packages (from tensorflow-intel==2.15.0->tensorflow) (1.6.3)\n",
      "Requirement already satisfied: flatbuffers>=23.5.26 in c:\\users\\abisa\\anaconda3\\lib\\site-packages (from tensorflow-intel==2.15.0->tensorflow) (23.5.26)\n",
      "Requirement already satisfied: gast!=0.5.0,!=0.5.1,!=0.5.2,>=0.2.1 in c:\\users\\abisa\\anaconda3\\lib\\site-packages (from tensorflow-intel==2.15.0->tensorflow) (0.5.4)\n",
      "Requirement already satisfied: google-pasta>=0.1.1 in c:\\users\\abisa\\anaconda3\\lib\\site-packages (from tensorflow-intel==2.15.0->tensorflow) (0.2.0)\n",
      "Requirement already satisfied: h5py>=2.9.0 in c:\\users\\abisa\\anaconda3\\lib\\site-packages (from tensorflow-intel==2.15.0->tensorflow) (3.9.0)\n",
      "Requirement already satisfied: libclang>=13.0.0 in c:\\users\\abisa\\anaconda3\\lib\\site-packages (from tensorflow-intel==2.15.0->tensorflow) (16.0.6)\n",
      "Requirement already satisfied: ml-dtypes~=0.2.0 in c:\\users\\abisa\\anaconda3\\lib\\site-packages (from tensorflow-intel==2.15.0->tensorflow) (0.2.0)\n",
      "Requirement already satisfied: numpy<2.0.0,>=1.23.5 in c:\\users\\abisa\\anaconda3\\lib\\site-packages (from tensorflow-intel==2.15.0->tensorflow) (1.24.3)\n",
      "Requirement already satisfied: opt-einsum>=2.3.2 in c:\\users\\abisa\\anaconda3\\lib\\site-packages (from tensorflow-intel==2.15.0->tensorflow) (3.3.0)\n",
      "Requirement already satisfied: packaging in c:\\users\\abisa\\anaconda3\\lib\\site-packages (from tensorflow-intel==2.15.0->tensorflow) (23.1)\n",
      "Requirement already satisfied: protobuf!=4.21.0,!=4.21.1,!=4.21.2,!=4.21.3,!=4.21.4,!=4.21.5,<5.0.0dev,>=3.20.3 in c:\\users\\abisa\\anaconda3\\lib\\site-packages (from tensorflow-intel==2.15.0->tensorflow) (4.23.4)\n",
      "Requirement already satisfied: setuptools in c:\\users\\abisa\\anaconda3\\lib\\site-packages (from tensorflow-intel==2.15.0->tensorflow) (68.0.0)\n",
      "Requirement already satisfied: six>=1.12.0 in c:\\users\\abisa\\anaconda3\\lib\\site-packages (from tensorflow-intel==2.15.0->tensorflow) (1.16.0)\n",
      "Requirement already satisfied: termcolor>=1.1.0 in c:\\users\\abisa\\anaconda3\\lib\\site-packages (from tensorflow-intel==2.15.0->tensorflow) (2.3.0)\n",
      "Requirement already satisfied: typing-extensions>=3.6.6 in c:\\users\\abisa\\anaconda3\\lib\\site-packages (from tensorflow-intel==2.15.0->tensorflow) (4.7.1)\n",
      "Requirement already satisfied: wrapt<1.15,>=1.11.0 in c:\\users\\abisa\\anaconda3\\lib\\site-packages (from tensorflow-intel==2.15.0->tensorflow) (1.14.1)\n",
      "Requirement already satisfied: tensorflow-io-gcs-filesystem>=0.23.1 in c:\\users\\abisa\\anaconda3\\lib\\site-packages (from tensorflow-intel==2.15.0->tensorflow) (0.31.0)\n",
      "Requirement already satisfied: grpcio<2.0,>=1.24.3 in c:\\users\\abisa\\anaconda3\\lib\\site-packages (from tensorflow-intel==2.15.0->tensorflow) (1.59.3)\n",
      "Requirement already satisfied: tensorboard<2.16,>=2.15 in c:\\users\\abisa\\anaconda3\\lib\\site-packages (from tensorflow-intel==2.15.0->tensorflow) (2.15.1)\n",
      "Requirement already satisfied: tensorflow-estimator<2.16,>=2.15.0 in c:\\users\\abisa\\anaconda3\\lib\\site-packages (from tensorflow-intel==2.15.0->tensorflow) (2.15.0)\n",
      "Requirement already satisfied: keras<2.16,>=2.15.0 in c:\\users\\abisa\\anaconda3\\lib\\site-packages (from tensorflow-intel==2.15.0->tensorflow) (2.15.0)\n",
      "Requirement already satisfied: wheel<1.0,>=0.23.0 in c:\\users\\abisa\\anaconda3\\lib\\site-packages (from astunparse>=1.6.0->tensorflow-intel==2.15.0->tensorflow) (0.38.4)\n",
      "Requirement already satisfied: google-auth<3,>=1.6.3 in c:\\users\\abisa\\anaconda3\\lib\\site-packages (from tensorboard<2.16,>=2.15->tensorflow-intel==2.15.0->tensorflow) (2.23.4)\n",
      "Requirement already satisfied: google-auth-oauthlib<2,>=0.5 in c:\\users\\abisa\\anaconda3\\lib\\site-packages (from tensorboard<2.16,>=2.15->tensorflow-intel==2.15.0->tensorflow) (1.1.0)\n",
      "Requirement already satisfied: markdown>=2.6.8 in c:\\users\\abisa\\anaconda3\\lib\\site-packages (from tensorboard<2.16,>=2.15->tensorflow-intel==2.15.0->tensorflow) (3.4.1)\n",
      "Requirement already satisfied: requests<3,>=2.21.0 in c:\\users\\abisa\\anaconda3\\lib\\site-packages (from tensorboard<2.16,>=2.15->tensorflow-intel==2.15.0->tensorflow) (2.31.0)\n",
      "Requirement already satisfied: tensorboard-data-server<0.8.0,>=0.7.0 in c:\\users\\abisa\\anaconda3\\lib\\site-packages (from tensorboard<2.16,>=2.15->tensorflow-intel==2.15.0->tensorflow) (0.7.2)\n",
      "Requirement already satisfied: werkzeug>=1.0.1 in c:\\users\\abisa\\anaconda3\\lib\\site-packages (from tensorboard<2.16,>=2.15->tensorflow-intel==2.15.0->tensorflow) (2.2.3)\n",
      "Requirement already satisfied: cachetools<6.0,>=2.0.0 in c:\\users\\abisa\\anaconda3\\lib\\site-packages (from google-auth<3,>=1.6.3->tensorboard<2.16,>=2.15->tensorflow-intel==2.15.0->tensorflow) (5.3.2)\n",
      "Requirement already satisfied: pyasn1-modules>=0.2.1 in c:\\users\\abisa\\anaconda3\\lib\\site-packages (from google-auth<3,>=1.6.3->tensorboard<2.16,>=2.15->tensorflow-intel==2.15.0->tensorflow) (0.2.8)\n",
      "Requirement already satisfied: rsa<5,>=3.1.4 in c:\\users\\abisa\\anaconda3\\lib\\site-packages (from google-auth<3,>=1.6.3->tensorboard<2.16,>=2.15->tensorflow-intel==2.15.0->tensorflow) (4.9)\n",
      "Requirement already satisfied: requests-oauthlib>=0.7.0 in c:\\users\\abisa\\anaconda3\\lib\\site-packages (from google-auth-oauthlib<2,>=0.5->tensorboard<2.16,>=2.15->tensorflow-intel==2.15.0->tensorflow) (1.3.1)\n",
      "Requirement already satisfied: charset-normalizer<4,>=2 in c:\\users\\abisa\\anaconda3\\lib\\site-packages (from requests<3,>=2.21.0->tensorboard<2.16,>=2.15->tensorflow-intel==2.15.0->tensorflow) (2.0.4)\n",
      "Requirement already satisfied: idna<4,>=2.5 in c:\\users\\abisa\\anaconda3\\lib\\site-packages (from requests<3,>=2.21.0->tensorboard<2.16,>=2.15->tensorflow-intel==2.15.0->tensorflow) (3.4)\n",
      "Requirement already satisfied: urllib3<3,>=1.21.1 in c:\\users\\abisa\\anaconda3\\lib\\site-packages (from requests<3,>=2.21.0->tensorboard<2.16,>=2.15->tensorflow-intel==2.15.0->tensorflow) (1.26.16)\n",
      "Requirement already satisfied: certifi>=2017.4.17 in c:\\users\\abisa\\anaconda3\\lib\\site-packages (from requests<3,>=2.21.0->tensorboard<2.16,>=2.15->tensorflow-intel==2.15.0->tensorflow) (2023.11.17)\n",
      "Requirement already satisfied: MarkupSafe>=2.1.1 in c:\\users\\abisa\\anaconda3\\lib\\site-packages (from werkzeug>=1.0.1->tensorboard<2.16,>=2.15->tensorflow-intel==2.15.0->tensorflow) (2.1.1)\n",
      "Requirement already satisfied: pyasn1<0.5.0,>=0.4.6 in c:\\users\\abisa\\anaconda3\\lib\\site-packages (from pyasn1-modules>=0.2.1->google-auth<3,>=1.6.3->tensorboard<2.16,>=2.15->tensorflow-intel==2.15.0->tensorflow) (0.4.8)\n",
      "Requirement already satisfied: oauthlib>=3.0.0 in c:\\users\\abisa\\anaconda3\\lib\\site-packages (from requests-oauthlib>=0.7.0->google-auth-oauthlib<2,>=0.5->tensorboard<2.16,>=2.15->tensorflow-intel==2.15.0->tensorflow) (3.2.2)\n"
     ]
    }
   ],
   "source": [
    "!pip install tensorflow"
   ]
  },
  {
   "cell_type": "code",
   "execution_count": 4,
   "id": "d91830cf",
   "metadata": {},
   "outputs": [
    {
     "name": "stdout",
     "output_type": "stream",
     "text": [
      "Requirement already satisfied: scikit-learn in c:\\users\\abisa\\anaconda3\\lib\\site-packages (1.1.3)\n",
      "Requirement already satisfied: numpy>=1.17.3 in c:\\users\\abisa\\anaconda3\\lib\\site-packages (from scikit-learn) (1.24.3)\n",
      "Requirement already satisfied: scipy>=1.3.2 in c:\\users\\abisa\\anaconda3\\lib\\site-packages (from scikit-learn) (1.10.0)\n",
      "Requirement already satisfied: joblib>=1.0.0 in c:\\users\\abisa\\anaconda3\\lib\\site-packages (from scikit-learn) (1.2.0)\n",
      "Requirement already satisfied: threadpoolctl>=2.0.0 in c:\\users\\abisa\\anaconda3\\lib\\site-packages (from scikit-learn) (2.2.0)\n"
     ]
    }
   ],
   "source": [
    "!pip install scikit-learn"
   ]
  },
  {
   "cell_type": "code",
   "execution_count": 5,
   "id": "91e6bca1",
   "metadata": {
    "scrolled": true
   },
   "outputs": [
    {
     "name": "stdout",
     "output_type": "stream",
     "text": [
      "Requirement already satisfied: imageio[ffmpeg] in c:\\users\\abisa\\anaconda3\\lib\\site-packages (2.26.0)\n",
      "Requirement already satisfied: numpy in c:\\users\\abisa\\anaconda3\\lib\\site-packages (from imageio[ffmpeg]) (1.24.3)\n",
      "Requirement already satisfied: pillow>=8.3.2 in c:\\users\\abisa\\anaconda3\\lib\\site-packages (from imageio[ffmpeg]) (9.4.0)\n",
      "Requirement already satisfied: imageio-ffmpeg in c:\\users\\abisa\\anaconda3\\lib\\site-packages (from imageio[ffmpeg]) (0.4.9)\n",
      "Requirement already satisfied: psutil in c:\\users\\abisa\\anaconda3\\lib\\site-packages (from imageio[ffmpeg]) (5.9.0)\n",
      "Requirement already satisfied: setuptools in c:\\users\\abisa\\anaconda3\\lib\\site-packages (from imageio-ffmpeg->imageio[ffmpeg]) (68.0.0)\n"
     ]
    }
   ],
   "source": [
    "!pip install imageio[ffmpeg]"
   ]
  },
  {
   "cell_type": "code",
   "execution_count": 6,
   "id": "a0ca5780",
   "metadata": {},
   "outputs": [
    {
     "name": "stdout",
     "output_type": "stream",
     "text": [
      "WARNING:tensorflow:From C:\\Users\\abisa\\anaconda3\\Lib\\site-packages\\keras\\src\\losses.py:2976: The name tf.losses.sparse_softmax_cross_entropy is deprecated. Please use tf.compat.v1.losses.sparse_softmax_cross_entropy instead.\n",
      "\n"
     ]
    }
   ],
   "source": [
    "import os\n",
    "import cv2\n",
    "import numpy as np\n",
    "from tensorflow.keras.models import Sequential\n",
    "from tensorflow.keras.layers import Conv3D, MaxPooling3D, Flatten, Dense, BatchNormalization\n",
    "from tensorflow.keras.optimizers import Adam\n",
    "from tensorflow.keras.preprocessing.image import ImageDataGenerator\n",
    "\n",
    "data_dir = 'dataset_file'\n",
    "high_violence_dir = os.path.join(data_dir, 'High-violence')\n",
    "low_violence_dir = os.path.join(data_dir,'Low-violence')\n",
    "non_violence_dir = os.path.join(data_dir, 'Non-violence')\n",
    "\n",
    "max_frames = 100"
   ]
  },
  {
   "cell_type": "code",
   "execution_count": 7,
   "id": "a7af17b7",
   "metadata": {},
   "outputs": [],
   "source": [
    "high_violence_videos = [os.path.join(high_violence_dir, video) for video in os.listdir(high_violence_dir)]\n",
    "low_violence_videos = [os.path.join(low_violence_dir, video) for video in os.listdir(low_violence_dir)]\n",
    "non_violence_videos = [os.path.join(non_violence_dir, video) for video in os.listdir(non_violence_dir)]"
   ]
  },
  {
   "cell_type": "code",
   "execution_count": 8,
   "id": "91e2f2c2",
   "metadata": {},
   "outputs": [],
   "source": [
    "import cv2\n",
    "import numpy as np\n",
    "import imageio\n",
    "\n",
    "def load_and_preprocess_video(video_path, target_size=(64, 64), max_frames=100):\n",
    "    try:\n",
    "        # Open the video file using the imageio library\n",
    "        video = imageio.get_reader(video_path, 'ffmpeg')\n",
    "        \n",
    "        # Initialize an empty list to store preprocessed frames\n",
    "        frames = []\n",
    "\n",
    "        # Iterate through frames in the video\n",
    "        for i, frame in enumerate(video):\n",
    "            # Break the loop if the maximum frame limit is reached\n",
    "            if i >= max_frames:\n",
    "                break\n",
    "            \n",
    "            # Resize the frame to the specified target size\n",
    "            frame = cv2.resize(frame, target_size)\n",
    "            \n",
    "            # Normalize pixel values to the range [0, 1]\n",
    "            frame = frame / 255.0\n",
    "            \n",
    "            # Append the preprocessed frame to the frames list\n",
    "            frames.append(frame)\n",
    "\n",
    "        # Close the video file\n",
    "        video.close()\n",
    "\n",
    "        # If the number of frames is less than the maximum, pad with zeros\n",
    "        if len(frames) < max_frames:\n",
    "            frames += [np.zeros_like(frames[0])] * (max_frames - len(frames))\n",
    "        # If there are more frames than the maximum, truncate the list\n",
    "        elif len(frames) > max_frames:\n",
    "            frames = frames[:max_frames]\n",
    "\n",
    "        # Convert the list of frames to a numpy array and stack them along a new axis\n",
    "        return np.stack(frames)\n",
    "    \n",
    "    except Exception as e:\n",
    "        # Print an error message if video processing fails\n",
    "        print(f\"Error processing video '{video_path}': {str(e)}\")\n",
    "        \n",
    "        # Return None to indicate failure\n",
    "        return None\n"
   ]
  },
  {
   "cell_type": "code",
   "execution_count": 9,
   "id": "62ae6505",
   "metadata": {},
   "outputs": [],
   "source": [
    "from sklearn.model_selection import train_test_split"
   ]
  },
  {
   "cell_type": "code",
   "execution_count": 10,
   "id": "4a9dfdbc",
   "metadata": {},
   "outputs": [],
   "source": [
    "# Initialize empty lists to store video frames\n",
    "X = []\n",
    "y = []\n",
    "\n",
    "# Concatenate video paths and create labels based on violence levels\n",
    "video_paths = high_violence_videos + low_violence_videos + non_violence_videos\n",
    "labels = [2] * len(high_violence_videos) + [1] * len(low_violence_videos) + [0] * len(non_violence_videos)\n",
    "\n",
    "# Iterate through video paths and labels simultaneously\n",
    "for video_path, label in zip(video_paths, labels):\n",
    "    # Load and preprocess video frames using the defined function\n",
    "    frames = load_and_preprocess_video(video_path)\n",
    "    \n",
    "    # Check if video processing was successful\n",
    "    if frames is not None:\n",
    "        X.append(frames)\n",
    "        y.append(label)\n",
    "\n",
    "# Convert the lists of frames (X) and labels (y) to numpy arrays\n",
    "X = np.array(X)\n",
    "y = np.array(y)\n"
   ]
  },
  {
   "cell_type": "code",
   "execution_count": 11,
   "id": "b798e385",
   "metadata": {},
   "outputs": [
    {
     "name": "stdout",
     "output_type": "stream",
     "text": [
      "Number of samples after reshaping: 166 166\n",
      "X_train shape: (132, 100, 64, 64, 3)\n",
      "y_train shape: (132,)\n",
      "X_val shape: (34, 100, 64, 64, 3)\n",
      "y_val shape: (34,)\n"
     ]
    }
   ],
   "source": [
    "# Calculate the total number of frames in the dataset\n",
    "total_frames = len(X) * 100\n",
    "\n",
    "# Calculate the remainder when dividing total_frames by 100\n",
    "remainder = total_frames % 100\n",
    "\n",
    "# Duplicate frames to complete the last batch\n",
    "X = np.concatenate([X, X[:remainder]])\n",
    "\n",
    "# Reshape X to a 5D tensor assuming 100 frames per video\n",
    "X = X.reshape((-1, max_frames, 64, 64, 3))\n",
    "\n",
    "print(\"Number of samples after reshaping:\", X.shape[0], y.shape[0])\n",
    "\n",
    "# Split the data into training and validation sets using a 80-20 split\n",
    "X_train, X_val, y_train, y_val = train_test_split(X, y, test_size=0.2, random_state=42)\n",
    "\n",
    "# Print the shapes of the training and validation sets\n",
    "print(\"X_train shape:\", X_train.shape)\n",
    "print(\"y_train shape:\", y_train.shape)\n",
    "print(\"X_val shape:\", X_val.shape)\n",
    "print(\"y_val shape:\", y_val.shape)\n"
   ]
  },
  {
   "cell_type": "code",
   "execution_count": 12,
   "id": "9cf91c82",
   "metadata": {
    "scrolled": false
   },
   "outputs": [
    {
     "name": "stdout",
     "output_type": "stream",
     "text": [
      "WARNING:tensorflow:From C:\\Users\\abisa\\anaconda3\\Lib\\site-packages\\keras\\src\\backend.py:873: The name tf.get_default_graph is deprecated. Please use tf.compat.v1.get_default_graph instead.\n",
      "\n",
      "WARNING:tensorflow:From C:\\Users\\abisa\\anaconda3\\Lib\\site-packages\\keras\\src\\optimizers\\__init__.py:309: The name tf.train.Optimizer is deprecated. Please use tf.compat.v1.train.Optimizer instead.\n",
      "\n",
      "Epoch 1/10\n",
      "WARNING:tensorflow:From C:\\Users\\abisa\\anaconda3\\Lib\\site-packages\\keras\\src\\utils\\tf_utils.py:492: The name tf.ragged.RaggedTensorValue is deprecated. Please use tf.compat.v1.ragged.RaggedTensorValue instead.\n",
      "\n",
      "WARNING:tensorflow:From C:\\Users\\abisa\\anaconda3\\Lib\\site-packages\\keras\\src\\engine\\base_layer_utils.py:384: The name tf.executing_eagerly_outside_functions is deprecated. Please use tf.compat.v1.executing_eagerly_outside_functions instead.\n",
      "\n",
      "5/5 [==============================] - 16s 2s/step - loss: 1.4866 - accuracy: 0.3864 - val_loss: 29.8954 - val_accuracy: 0.4412\n",
      "Epoch 2/10\n",
      "5/5 [==============================] - 7s 1s/step - loss: 0.9466 - accuracy: 0.5833 - val_loss: 13.8103 - val_accuracy: 0.4412\n",
      "Epoch 3/10\n",
      "5/5 [==============================] - 7s 1s/step - loss: 0.7188 - accuracy: 0.6591 - val_loss: 5.9265 - val_accuracy: 0.3235\n",
      "Epoch 4/10\n",
      "5/5 [==============================] - 7s 1s/step - loss: 0.5357 - accuracy: 0.7803 - val_loss: 2.4187 - val_accuracy: 0.3824\n",
      "Epoch 5/10\n",
      "5/5 [==============================] - 7s 1s/step - loss: 0.4463 - accuracy: 0.8409 - val_loss: 4.4701 - val_accuracy: 0.2353\n",
      "Epoch 6/10\n",
      "5/5 [==============================] - 7s 1s/step - loss: 0.3511 - accuracy: 0.8788 - val_loss: 4.1238 - val_accuracy: 0.2353\n",
      "Epoch 7/10\n",
      "5/5 [==============================] - 7s 1s/step - loss: 0.2461 - accuracy: 0.9394 - val_loss: 3.3882 - val_accuracy: 0.2059\n",
      "Epoch 8/10\n",
      "5/5 [==============================] - 7s 1s/step - loss: 0.1819 - accuracy: 0.9697 - val_loss: 3.5836 - val_accuracy: 0.2353\n",
      "Epoch 9/10\n",
      "5/5 [==============================] - 7s 1s/step - loss: 0.1218 - accuracy: 0.9848 - val_loss: 2.1544 - val_accuracy: 0.4706\n",
      "Epoch 10/10\n",
      "5/5 [==============================] - 7s 1s/step - loss: 0.1123 - accuracy: 0.9848 - val_loss: 1.4098 - val_accuracy: 0.4706\n"
     ]
    },
    {
     "data": {
      "text/plain": [
       "<keras.src.callbacks.History at 0x1b810a5f210>"
      ]
     },
     "execution_count": 12,
     "metadata": {},
     "output_type": "execute_result"
    }
   ],
   "source": [
    "# Create a Sequential model\n",
    "model = Sequential()\n",
    "\n",
    "# Add a 3D convolutional layer with 32 filters, kernel size (3, 3, 3), and ReLU activation\n",
    "model.add(Conv3D(32, kernel_size=(3, 3, 3), input_shape=(max_frames, 64, 64, 3), activation='relu'))\n",
    "\n",
    "# Add a 3D max pooling layer with pool size (2, 2, 2)\n",
    "model.add(MaxPooling3D(pool_size=(2, 2, 2)))\n",
    "\n",
    "# Add another 3D convolutional layer with 64 filters, kernel size (3, 3, 3), and ReLU activation\n",
    "model.add(Conv3D(64, kernel_size=(3, 3, 3), activation='relu'))\n",
    "\n",
    "# Add another 3D max pooling layer with pool size (2, 2, 2)\n",
    "model.add(MaxPooling3D(pool_size=(2, 2, 2)))\n",
    "\n",
    "# Flatten the output from the convolutional layers\n",
    "model.add(Flatten())\n",
    "\n",
    "# Add a dense layer with 128 units and ReLU activation\n",
    "model.add(Dense(128, activation='relu'))\n",
    "\n",
    "# Add batch normalization to improve training stability\n",
    "model.add(BatchNormalization())\n",
    "\n",
    "# Add the output layer with 3 units (adjust based on the number of classes) and softmax activation\n",
    "model.add(Dense(3, activation='softmax'))\n",
    "\n",
    "# Compile the model using the Adam optimizer, sparse categorical crossentropy loss, and accuracy metric\n",
    "model.compile(optimizer='adam', loss='sparse_categorical_crossentropy', metrics=['accuracy'])\n",
    "\n",
    "datagen = ImageDataGenerator(\n",
    "    rotation_range=20,\n",
    "    width_shift_range=0.2,\n",
    "    height_shift_range=0.2,\n",
    "    shear_range=0.2,\n",
    "    zoom_range=0.2,\n",
    "    horizontal_flip=True,\n",
    "    fill_mode='nearest'\n",
    ")\n",
    "\n",
    "# Train the model on the prepared dataset with 10 epochs and validation data\n",
    "model.fit(X_train, y_train, epochs=10, validation_data=(X_val, y_val))\n"
   ]
  },
  {
   "cell_type": "code",
   "execution_count": 13,
   "id": "0a0c80f2",
   "metadata": {},
   "outputs": [
    {
     "name": "stderr",
     "output_type": "stream",
     "text": [
      "C:\\Users\\abisa\\anaconda3\\Lib\\site-packages\\keras\\src\\engine\\training.py:3103: UserWarning: You are saving your model as an HDF5 file via `model.save()`. This file format is considered legacy. We recommend using instead the native Keras format, e.g. `model.save('my_model.keras')`.\n",
      "  saving_api.save_model(\n"
     ]
    }
   ],
   "source": [
    "model.save('violence_detection_model.h5')"
   ]
  },
  {
   "cell_type": "code",
   "execution_count": 14,
   "id": "ee8264a2",
   "metadata": {},
   "outputs": [
    {
     "name": "stdout",
     "output_type": "stream",
     "text": [
      "2/2 [==============================] - 1s 35ms/step - loss: 1.4098 - accuracy: 0.4706\n",
      "Validation Loss: 1.4098063707351685\n",
      "Validation Accuracy: 0.47058823704719543\n"
     ]
    }
   ],
   "source": [
    "# Assuming you have a validation set (X_val, y_val)\n",
    "eval_results = model.evaluate(X_val, y_val)\n",
    "print(\"Validation Loss:\", eval_results[0])\n",
    "print(\"Validation Accuracy:\", eval_results[1])"
   ]
  },
  {
   "cell_type": "code",
   "execution_count": 15,
   "id": "c9636226",
   "metadata": {},
   "outputs": [
    {
     "name": "stdout",
     "output_type": "stream",
     "text": [
      "Epoch 1/10\n",
      "5/5 [==============================] - 7s 1s/step - loss: 0.0856 - accuracy: 0.9848 - val_loss: 1.4395 - val_accuracy: 0.5000\n",
      "Epoch 2/10\n",
      "5/5 [==============================] - 7s 1s/step - loss: 0.1007 - accuracy: 0.9773 - val_loss: 2.2367 - val_accuracy: 0.5000\n",
      "Epoch 3/10\n",
      "5/5 [==============================] - 7s 1s/step - loss: 0.0709 - accuracy: 0.9924 - val_loss: 2.5442 - val_accuracy: 0.4706\n",
      "Epoch 4/10\n",
      "5/5 [==============================] - 7s 1s/step - loss: 0.0870 - accuracy: 0.9924 - val_loss: 2.7832 - val_accuracy: 0.4706\n",
      "Epoch 5/10\n",
      "5/5 [==============================] - 7s 1s/step - loss: 0.1065 - accuracy: 0.9773 - val_loss: 2.1518 - val_accuracy: 0.5000\n",
      "Epoch 6/10\n",
      "5/5 [==============================] - 7s 1s/step - loss: 0.1033 - accuracy: 0.9773 - val_loss: 1.9851 - val_accuracy: 0.3824\n",
      "Epoch 7/10\n",
      "5/5 [==============================] - 7s 1s/step - loss: 0.0959 - accuracy: 0.9697 - val_loss: 2.1601 - val_accuracy: 0.3824\n",
      "Epoch 8/10\n",
      "5/5 [==============================] - 7s 1s/step - loss: 0.0969 - accuracy: 0.9848 - val_loss: 3.3977 - val_accuracy: 0.3235\n",
      "Epoch 9/10\n",
      "5/5 [==============================] - 7s 1s/step - loss: 0.0584 - accuracy: 0.9848 - val_loss: 3.6491 - val_accuracy: 0.3235\n",
      "Epoch 10/10\n",
      "5/5 [==============================] - 7s 1s/step - loss: 0.0445 - accuracy: 0.9924 - val_loss: 2.4859 - val_accuracy: 0.5000\n"
     ]
    },
    {
     "data": {
      "image/png": "[encoded data removed]",
      "text/plain": [
       "<Figure size 640x480 with 1 Axes>"
      ]
     },
     "metadata": {},
     "output_type": "display_data"
    }
   ],
   "source": [
    "# Generate and display charts or visualizations\n",
    "# Example: Training and Validation Accuracy/Loss Plots\n",
    "import matplotlib.pyplot as plt\n",
    "\n",
    "history = model.fit(X_train, y_train, epochs=10, validation_data=(X_val, y_val))\n",
    "\n",
    "plt.plot(history.history['accuracy'], label='Training Accuracy')\n",
    "plt.plot(history.history['val_accuracy'], label='Validation Accuracy')\n",
    "plt.xlabel('Epoch')\n",
    "plt.ylabel('Accuracy')\n",
    "plt.legend()\n",
    "plt.show()"
   ]
  },
  {
   "cell_type": "code",
   "execution_count": 16,
   "id": "418d3ab6",
   "metadata": {},
   "outputs": [
    {
     "name": "stdout",
     "output_type": "stream",
     "text": [
      "2/2 [==============================] - 1s 33ms/step\n"
     ]
    },
    {
     "data": {
      "image/png": "[encoded data removed]",
      "text/plain": [
       "<Figure size 640x480 with 2 Axes>"
      ]
     },
     "metadata": {},
     "output_type": "display_data"
    },
    {
     "data": {
      "image/png": "[encoded data removed]",
      "text/plain": [
       "<Figure size 640x480 with 1 Axes>"
      ]
     },
     "metadata": {},
     "output_type": "display_data"
    }
   ],
   "source": [
    "from sklearn.metrics import confusion_matrix\n",
    "import seaborn as sns\n",
    "\n",
    "# Example: Confusion Matrix\n",
    "y_pred_prob = model.predict(X_val)\n",
    "y_pred = np.argmax(y_pred_prob, axis=1)\n",
    "\n",
    "conf_mat = confusion_matrix(y_val, y_pred)\n",
    "sns.heatmap(conf_mat, annot=True, fmt='d', cmap='Blues')\n",
    "plt.xlabel('Predicted')\n",
    "plt.ylabel('True')\n",
    "plt.show()\n",
    "\n",
    "from sklearn.metrics import accuracy_score\n",
    "\n",
    "# Calculate accuracy from the confusion matrix\n",
    "accuracy_model_a = accuracy_score(y_val, y_pred)  # Replace y_pred with predictions for Model A\n",
    "accuracy_model_b = accuracy_score(y_val, y_pred)  # Replace y_pred with predictions for Model B\n",
    "accuracy_model_c = accuracy_score(y_val, y_pred)  # Replace y_pred with predictions for Model C\n",
    "\n",
    "models = ['Model A', 'Model B', 'Model C']\n",
    "accuracies = [accuracy_model_a, accuracy_model_b, accuracy_model_c]\n",
    "\n",
    "plt.bar(models, accuracies, color='skyblue')\n",
    "plt.xlabel('Models')\n",
    "plt.ylabel('Accuracy')\n",
    "plt.show()"
   ]
  },
  {
   "cell_type": "code",
   "execution_count": 17,
   "id": "a5806bb0",
   "metadata": {},
   "outputs": [
    {
     "name": "stdout",
     "output_type": "stream",
     "text": [
      "1/1 [==============================] - 0s 87ms/step\n",
      "1/1 [==============================] - 0s 50ms/step\n",
      "1/1 [==============================] - 0s 51ms/step\n",
      "1/1 [==============================] - 0s 41ms/step\n",
      "1/1 [==============================] - 0s 38ms/step\n",
      "1/1 [==============================] - 0s 40ms/step\n",
      "1/1 [==============================] - 0s 45ms/step\n",
      "1/1 [==============================] - 0s 42ms/step\n",
      "1/1 [==============================] - 0s 37ms/step\n",
      "1/1 [==============================] - 0s 36ms/step\n",
      "1/1 [==============================] - 0s 36ms/step\n",
      "1/1 [==============================] - 0s 42ms/step\n",
      "1/1 [==============================] - 0s 43ms/step\n",
      "1/1 [==============================] - 0s 35ms/step\n",
      "1/1 [==============================] - 0s 45ms/step\n",
      "1/1 [==============================] - 0s 38ms/step\n",
      "1/1 [==============================] - 0s 36ms/step\n",
      "1/1 [==============================] - 0s 36ms/step\n",
      "1/1 [==============================] - 0s 43ms/step\n",
      "1/1 [==============================] - 0s 35ms/step\n",
      "1/1 [==============================] - 0s 35ms/step\n",
      "1/1 [==============================] - 0s 34ms/step\n",
      "1/1 [==============================] - 0s 43ms/step\n",
      "1/1 [==============================] - 0s 42ms/step\n",
      "1/1 [==============================] - 0s 38ms/step\n",
      "1/1 [==============================] - 0s 57ms/step\n",
      "1/1 [==============================] - 0s 39ms/step\n",
      "1/1 [==============================] - 0s 37ms/step\n",
      "1/1 [==============================] - 0s 37ms/step\n",
      "1/1 [==============================] - 0s 50ms/step\n",
      "1/1 [==============================] - 0s 38ms/step\n",
      "1/1 [==============================] - 0s 43ms/step\n",
      "1/1 [==============================] - 0s 39ms/step\n",
      "1/1 [==============================] - 0s 43ms/step\n",
      "1/1 [==============================] - 0s 36ms/step\n",
      "1/1 [==============================] - 0s 46ms/step\n",
      "1/1 [==============================] - 0s 39ms/step\n",
      "1/1 [==============================] - 0s 35ms/step\n",
      "1/1 [==============================] - 0s 39ms/step\n",
      "1/1 [==============================] - 0s 39ms/step\n",
      "1/1 [==============================] - 0s 47ms/step\n",
      "1/1 [==============================] - 0s 55ms/step\n",
      "1/1 [==============================] - 0s 44ms/step\n",
      "1/1 [==============================] - 0s 37ms/step\n",
      "1/1 [==============================] - 0s 49ms/step\n",
      "1/1 [==============================] - 0s 48ms/step\n",
      "1/1 [==============================] - 0s 46ms/step\n",
      "1/1 [==============================] - 0s 40ms/step\n",
      "1/1 [==============================] - 0s 40ms/step\n",
      "1/1 [==============================] - 0s 41ms/step\n",
      "1/1 [==============================] - 0s 53ms/step\n",
      "1/1 [==============================] - 0s 41ms/step\n"
     ]
    },
    {
     "ename": "KeyboardInterrupt",
     "evalue": "",
     "output_type": "error",
     "traceback": [
      "\u001b[1;31m---------------------------------------------------------------------------\u001b[0m",
      "\u001b[1;31mKeyboardInterrupt\u001b[0m                         Traceback (most recent call last)",
      "Cell \u001b[1;32mIn[17], line 80\u001b[0m\n\u001b[0;32m     77\u001b[0m         \u001b[38;5;28;01mbreak\u001b[39;00m\n\u001b[0;32m     79\u001b[0m     \u001b[38;5;66;03m# Adjust the delay time (in milliseconds) to speed up or slow down the video streaming\u001b[39;00m\n\u001b[1;32m---> 80\u001b[0m     cv2\u001b[38;5;241m.\u001b[39mwaitKey(\u001b[38;5;241m5\u001b[39m)\n\u001b[0;32m     82\u001b[0m \u001b[38;5;66;03m# Release the camera and close all windows\u001b[39;00m\n\u001b[0;32m     83\u001b[0m cap\u001b[38;5;241m.\u001b[39mrelease()\n",
      "\u001b[1;31mKeyboardInterrupt\u001b[0m: "
     ]
    }
   ],
   "source": [
    "import cv2\n",
    "import numpy as np\n",
    "from tensorflow.keras.models import load_model\n",
    "\n",
    "# Load the saved model\n",
    "model = load_model('violence_detection_model.h5')\n",
    "\n",
    "# Define the classes\n",
    "classes = ['Non-violence', 'Low-violence', 'High-violence']\n",
    "\n",
    "# Start capturing video from the camera\n",
    "cap = cv2.VideoCapture(0)  # Use 0 for default camera, adjust as needed\n",
    "\n",
    "# Get the native resolution of the camera\n",
    "original_width = int(cap.get(cv2.CAP_PROP_FRAME_WIDTH))\n",
    "original_height = int(cap.get(cv2.CAP_PROP_FRAME_HEIGHT))\n",
    "\n",
    "# Set the window size to the native resolution\n",
    "cv2.namedWindow('Violence Detection', cv2.WINDOW_NORMAL)\n",
    "cv2.resizeWindow('Violence Detection', original_width, original_height)\n",
    "\n",
    "# Initialize a buffer to store frames\n",
    "frame_buffer = []\n",
    "\n",
    "while True:\n",
    "    # Capture frame-by-frame\n",
    "    ret, frame = cap.read()\n",
    "\n",
    "    # Check if the frame is valid\n",
    "    if not ret:\n",
    "        print(\"Error: Could not read frame. Exiting...\")\n",
    "        break\n",
    "\n",
    "    # Preprocess the frame\n",
    "    frame_resized = cv2.resize(frame, (64, 64))\n",
    "    frame_normalized = frame_resized / 255.0\n",
    "\n",
    "    # Add the frame to the buffer\n",
    "    frame_buffer.append(frame_normalized)\n",
    "\n",
    "    # Maintain a buffer of 100 frames\n",
    "    if len(frame_buffer) == 100:\n",
    "        # Convert the buffer to a numpy array and add batch dimension\n",
    "        frame_sequence = np.expand_dims(np.array(frame_buffer), axis=0)\n",
    "\n",
    "        # Make predictions\n",
    "        predictions = model.predict(frame_sequence)\n",
    "        class_index = np.argmax(predictions)\n",
    "        confidence = predictions[0, class_index]\n",
    "\n",
    "        # Get the class label\n",
    "        class_label = classes[class_index]\n",
    "\n",
    "        # Display additional information on the frame\n",
    "        font = cv2.FONT_HERSHEY_SIMPLEX\n",
    "        font_scale = 1.0  # Adjust the font scale as needed\n",
    "        font_thickness = 2  # Adjust the font thickness as needed\n",
    "\n",
    "        # Display class label and confidence\n",
    "        cv2.putText(frame, f'Class: {class_label} ({confidence:.2f})', (10, 30),\n",
    "                    font, font_scale, (0, 255, 0), font_thickness, cv2.LINE_AA)\n",
    "\n",
    "        # Display current webcam resolution\n",
    "        cv2.putText(frame, f'Resolution: {original_width}x{original_height}', (10, 60),\n",
    "                    font, font_scale, (255, 255, 255), font_thickness, cv2.LINE_AA)\n",
    "\n",
    "        # Display other elements or information as needed\n",
    "\n",
    "        # Display the frame\n",
    "        cv2.imshow('Violence Detection', frame)\n",
    "\n",
    "        # Clear the frame buffer for the next sequence\n",
    "        frame_buffer = []\n",
    "\n",
    "    # Break the loop if 'q' is pressed\n",
    "    if cv2.waitKey(1) & 0xFF == ord('q'):\n",
    "        break\n",
    "\n",
    "    # Adjust the delay time (in milliseconds) to speed up or slow down the video streaming\n",
    "    cv2.waitKey(5)\n",
    "\n",
    "# Release the camera and close all windows\n",
    "cap.release()\n",
    "cv2.destroyAllWindows()\n"
   ]
  },
  {
   "cell_type": "code",
   "execution_count": null,
   "id": "ecfe2e18",
   "metadata": {},
   "outputs": [],
   "source": []
  },
  {
   "cell_type": "code",
   "execution_count": null,
   "id": "fbde47b2",
   "metadata": {},
   "outputs": [],
   "source": []
  }
 ],
 "metadata": {
  "kernelspec": {
   "display_name": "Python 3 (ipykernel)",
   "language": "python",
   "name": "python3"
  },
  "language_info": {
   "codemirror_mode": {
    "name": "ipython",
    "version": 3
   },
   "file_extension": ".py",
   "mimetype": "text/x-python",
   "name": "python",
   "nbconvert_exporter": "python",
   "pygments_lexer": "ipython3",
   "version": "3.11.5"
  }
 },
 "nbformat": 4,
 "nbformat_minor": 5
}
